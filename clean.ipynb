{
 "cells": [
  {
   "cell_type": "code",
   "execution_count": 4,
   "metadata": {
    "collapsed": true
   },
   "outputs": [],
   "source": [
    "%matplotlib notebook\n",
    "\n",
    "import json\n",
    "import jieba\n",
    "import jieba.analyse\n",
    "import pandas as pd\n",
    "from collections import defaultdict"
   ]
  },
  {
   "cell_type": "code",
   "execution_count": 2,
   "metadata": {
    "collapsed": true
   },
   "outputs": [],
   "source": [
    "path = 'ptt.json'\n",
    "\n",
    "with open(path) as f:\n",
    "    posts = json.load(f)"
   ]
  },
  {
   "cell_type": "code",
   "execution_count": 13,
   "metadata": {
    "collapsed": false
   },
   "outputs": [
    {
     "name": "stdout",
     "output_type": "stream",
     "text": [
      "Can't convert 'int' object to str implicitly\n",
      "Can't convert 'int' object to str implicitly\n"
     ]
    }
   ],
   "source": [
    "words = []\n",
    "\n",
    "for post in posts:\n",
    "    key = post['date'].replace('-','').replace(' ','').replace(':','')\n",
    "    if '公告' not in post['title']: #把公告排除\n",
    "        d = defaultdict(int)\n",
    "        d['date'] = key[:8]\n",
    "        for w in jieba.analyse.extract_tags(post['title'].replace('Re','')):\n",
    "                d[w] += 1\n",
    "        for w in jieba.analyse.extract_tags(post['content'].replace('Re','')):\n",
    "            try:\n",
    "                d[w] += 1\n",
    "            except Exception as e:\n",
    "                print(e)\n",
    "     \n",
    "        words.append(d)"
   ]
  },
  {
   "cell_type": "code",
   "execution_count": 28,
   "metadata": {
    "collapsed": false
   },
   "outputs": [],
   "source": [
    "data = pd.DataFrame(words[:100])\n",
    "data = data.set_index('date')"
   ]
  },
  {
   "cell_type": "markdown",
   "metadata": {},
   "source": [
    "本來直接 data = pd.DataFrame(words)就可以了，但是直接Out of memory，應該是words這個檔案太大了@@\n",
    "等下試著分段弄"
   ]
  },
  {
   "cell_type": "code",
   "execution_count": 29,
   "metadata": {
    "collapsed": false
   },
   "outputs": [],
   "source": [
    "data.to_csv('data_relational.csv',encoding='gbk')"
   ]
  },
  {
   "cell_type": "code",
   "execution_count": null,
   "metadata": {
    "collapsed": true
   },
   "outputs": [],
   "source": []
  }
 ],
 "metadata": {
  "kernelspec": {
   "display_name": "Python 3",
   "language": "python",
   "name": "python3"
  },
  "language_info": {
   "codemirror_mode": {
    "name": "ipython",
    "version": 3
   },
   "file_extension": ".py",
   "mimetype": "text/x-python",
   "name": "python",
   "nbconvert_exporter": "python",
   "pygments_lexer": "ipython3",
   "version": "3.5.1"
  }
 },
 "nbformat": 4,
 "nbformat_minor": 0
}
